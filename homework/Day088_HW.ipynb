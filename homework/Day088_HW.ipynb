{
 "cells": [
  {
   "cell_type": "markdown",
   "metadata": {},
   "source": [
    "## Work\n",
    "1. 請嘗試寫一個 callback 用來記錄各類別在訓練過程中，對驗證集的 True Positive 與 True Negative"
   ]
  },
  {
   "cell_type": "code",
   "execution_count": 13,
   "metadata": {},
   "outputs": [],
   "source": [
    "import os\n",
    "import keras\n",
    "\n",
    "# Disable GPU\n",
    "os.environ[\"CUDA_VISIBLE_DEVICES\"] = \"0\""
   ]
  },
  {
   "cell_type": "code",
   "execution_count": 14,
   "metadata": {},
   "outputs": [],
   "source": [
    "train, test = keras.datasets.cifar10.load_data()"
   ]
  },
  {
   "cell_type": "code",
   "execution_count": 15,
   "metadata": {},
   "outputs": [],
   "source": [
    "## 資料前處理\n",
    "def preproc_x(x, flatten=True):\n",
    "    x = x / 255.\n",
    "    if flatten:\n",
    "        x = x.reshape((len(x), -1))\n",
    "    return x\n",
    "\n",
    "def preproc_y(y, num_classes=10):\n",
    "    if y.shape[-1] == 1:\n",
    "        y = keras.utils.to_categorical(y, num_classes)\n",
    "    return y    "
   ]
  },
  {
   "cell_type": "code",
   "execution_count": 16,
   "metadata": {},
   "outputs": [],
   "source": [
    "x_train, y_train = train\n",
    "x_test, y_test = test\n",
    "\n",
    "# Preproc the inputs\n",
    "x_train = preproc_x(x_train)\n",
    "x_test = preproc_x(x_test)\n",
    "\n",
    "# Preprc the outputs\n",
    "y_train = preproc_y(y_train)\n",
    "y_test = preproc_y(y_test)"
   ]
  },
  {
   "cell_type": "code",
   "execution_count": 17,
   "metadata": {},
   "outputs": [],
   "source": [
    "from keras.layers import BatchNormalization\n",
    "def build_mlp(input_shape, output_units=10, num_neurons=[512, 256, 256]):\n",
    "    \"\"\"Code Here\n",
    "    建立你的神經網路\n",
    "    \"\"\"\n",
    "    input_layer = keras.layers.Input(input_shape)\n",
    "    \n",
    "    for i, n_units in enumerate(num_neurons):\n",
    "        if i == 0:\n",
    "            x = keras.layers.Dense(units=n_units, \n",
    "                                   activation=\"relu\", \n",
    "                                   name=\"hidden_layer\"+str(i+1))(input_layer)\n",
    "            x = BatchNormalization()(x)\n",
    "        else:\n",
    "            x = keras.layers.Dense(units=n_units, \n",
    "                                   activation=\"relu\", \n",
    "                                   name=\"hidden_layer\"+str(i+1))(x)\n",
    "            x = BatchNormalization()(x)\n",
    "    \n",
    "    out = keras.layers.Dense(units=output_units, activation=\"softmax\", name=\"output\")(x)\n",
    "    \n",
    "    model = keras.models.Model(inputs=[input_layer], outputs=[out])\n",
    "    return model"
   ]
  },
  {
   "cell_type": "code",
   "execution_count": 18,
   "metadata": {},
   "outputs": [],
   "source": [
    "## 超參數設定\n",
    "LEARNING_RATE = 1e-3\n",
    "EPOCHS = 25\n",
    "BATCH_SIZE = 1024\n",
    "MOMENTUM = 0.95"
   ]
  },
  {
   "cell_type": "code",
   "execution_count": 19,
   "metadata": {},
   "outputs": [],
   "source": [
    "# 載入 Callbacks\n",
    "from keras.callbacks import Callback\n",
    "from sklearn.metrics import confusion_matrix\n",
    "\n",
    "# Record_fp_tp\n",
    "class Record_tp_tn(Callback):\n",
    "    \"\"\"Code Here\n",
    "    撰寫一個紀錄 ture positive 與 true negative 數量的 callbacks    \n",
    "    \"\"\"\n",
    "    def on_train_begin(self, epoch, logs = {}):\n",
    "        logs = logs or {}\n",
    "        record_items = [\"val_auc\", \"val_f1sc\", \"val_fp\", \"val_fn\", \"val_tp\", \"val_tn\"]\n",
    "        for i in record_items:\n",
    "            if i not in self.params['metrics']:\n",
    "                self.params['metrics'].append(i)\n",
    "    \n",
    "    def on_epoch_end(self, epoch, logs = {}, thres=0.5):\n",
    "        logs = logs or {}        \n",
    "        y_true = self.validation_data[1].argmax(axis = 1)\n",
    "        y_pred = self.model.predict(self.validation_data[0])\n",
    "        y_pred = (y_pred[:, 1] >= thres) * 1\n",
    "        \n",
    "        conf_mat = confusion_matrix(y_true=y_true, y_pred=y_pred)\n",
    "        logs[\"val_tp\"] = conf_mat[1,1]\n",
    "        logs[\"val_tn\"] = conf_mat[0,0]\n",
    "\n",
    "rec_tptn = Record_tp_tn()"
   ]
  },
  {
   "cell_type": "code",
   "execution_count": 20,
   "metadata": {
    "scrolled": true
   },
   "outputs": [
    {
     "name": "stderr",
     "output_type": "stream",
     "text": [
      "WARNING: Logging before flag parsing goes to stderr.\n",
      "W0727 22:39:26.633655 139760480634688 deprecation.py:237] From /home/simon/tf_workspace/lib/python3.6/site-packages/keras/backend/tensorflow_backend.py:4139: The name tf.random_uniform is deprecated. Please use tf.random.uniform instead.\n",
      "\n",
      "W0727 22:39:26.671246 139760480634688 deprecation.py:506] From /home/simon/tf_workspace/lib/python3.6/site-packages/tensorflow/python/training/moving_averages.py:211: calling Zeros.__init__ (from tensorflow.python.ops.init_ops) with dtype is deprecated and will be removed in a future version.\n",
      "Instructions for updating:\n",
      "Call initializer instance with the dtype argument instead of passing it to the constructor\n",
      "W0727 22:39:26.829529 139760480634688 deprecation.py:237] From /home/simon/tf_workspace/lib/python3.6/site-packages/keras/backend/tensorflow_backend.py:3295: The name tf.log is deprecated. Please use tf.math.log instead.\n",
      "\n"
     ]
    },
    {
     "name": "stdout",
     "output_type": "stream",
     "text": [
      "_________________________________________________________________\n",
      "Layer (type)                 Output Shape              Param #   \n",
      "=================================================================\n",
      "input_1 (InputLayer)         (None, 3072)              0         \n",
      "_________________________________________________________________\n",
      "hidden_layer1 (Dense)        (None, 512)               1573376   \n",
      "_________________________________________________________________\n",
      "batch_normalization_1 (Batch (None, 512)               2048      \n",
      "_________________________________________________________________\n",
      "hidden_layer2 (Dense)        (None, 256)               131328    \n",
      "_________________________________________________________________\n",
      "batch_normalization_2 (Batch (None, 256)               1024      \n",
      "_________________________________________________________________\n",
      "hidden_layer3 (Dense)        (None, 256)               65792     \n",
      "_________________________________________________________________\n",
      "batch_normalization_3 (Batch (None, 256)               1024      \n",
      "_________________________________________________________________\n",
      "output (Dense)               (None, 10)                2570      \n",
      "=================================================================\n",
      "Total params: 1,777,162\n",
      "Trainable params: 1,775,114\n",
      "Non-trainable params: 2,048\n",
      "_________________________________________________________________\n",
      "Train on 50000 samples, validate on 10000 samples\n",
      "Epoch 1/25\n",
      "50000/50000 [==============================] - 2s 38us/step - loss: 2.1872 - acc: 0.2748 - val_loss: 2.1068 - val_acc: 0.3252\n",
      "Epoch 2/25\n",
      "50000/50000 [==============================] - 1s 13us/step - loss: 1.7292 - acc: 0.3969 - val_loss: 1.8018 - val_acc: 0.3740\n",
      "Epoch 3/25\n",
      "50000/50000 [==============================] - 1s 13us/step - loss: 1.5986 - acc: 0.4396 - val_loss: 1.6795 - val_acc: 0.4088\n",
      "Epoch 4/25\n",
      "50000/50000 [==============================] - 1s 13us/step - loss: 1.5214 - acc: 0.4664 - val_loss: 1.6430 - val_acc: 0.4128\n",
      "Epoch 5/25\n",
      "50000/50000 [==============================] - 1s 13us/step - loss: 1.4647 - acc: 0.4888 - val_loss: 1.5933 - val_acc: 0.4420\n",
      "Epoch 6/25\n",
      "50000/50000 [==============================] - 1s 13us/step - loss: 1.4164 - acc: 0.5053 - val_loss: 1.5832 - val_acc: 0.4437\n",
      "Epoch 7/25\n",
      "50000/50000 [==============================] - 1s 13us/step - loss: 1.3761 - acc: 0.5196 - val_loss: 1.5434 - val_acc: 0.4575\n",
      "Epoch 8/25\n",
      "50000/50000 [==============================] - 1s 13us/step - loss: 1.3392 - acc: 0.5353 - val_loss: 1.5359 - val_acc: 0.4652\n",
      "Epoch 9/25\n",
      "50000/50000 [==============================] - 1s 13us/step - loss: 1.3064 - acc: 0.5480 - val_loss: 1.5046 - val_acc: 0.4710\n",
      "Epoch 10/25\n",
      "50000/50000 [==============================] - 1s 13us/step - loss: 1.2755 - acc: 0.5582 - val_loss: 1.5057 - val_acc: 0.4649\n",
      "Epoch 11/25\n",
      "50000/50000 [==============================] - 1s 13us/step - loss: 1.2462 - acc: 0.5686 - val_loss: 1.4925 - val_acc: 0.4754\n",
      "Epoch 12/25\n",
      "50000/50000 [==============================] - 1s 13us/step - loss: 1.2207 - acc: 0.5777 - val_loss: 1.4882 - val_acc: 0.4765\n",
      "Epoch 13/25\n",
      "50000/50000 [==============================] - 1s 13us/step - loss: 1.1936 - acc: 0.5895 - val_loss: 1.4709 - val_acc: 0.4861\n",
      "Epoch 14/25\n",
      "50000/50000 [==============================] - 1s 13us/step - loss: 1.1677 - acc: 0.5988 - val_loss: 1.4800 - val_acc: 0.4827\n",
      "Epoch 15/25\n",
      "50000/50000 [==============================] - 1s 13us/step - loss: 1.1430 - acc: 0.6080 - val_loss: 1.4729 - val_acc: 0.4857\n",
      "Epoch 16/25\n",
      "50000/50000 [==============================] - 1s 13us/step - loss: 1.1196 - acc: 0.6156 - val_loss: 1.4673 - val_acc: 0.4878\n",
      "Epoch 17/25\n",
      "50000/50000 [==============================] - 1s 13us/step - loss: 1.0964 - acc: 0.6235 - val_loss: 1.4588 - val_acc: 0.4905\n",
      "Epoch 18/25\n",
      "50000/50000 [==============================] - 1s 13us/step - loss: 1.0727 - acc: 0.6357 - val_loss: 1.4679 - val_acc: 0.4907\n",
      "Epoch 19/25\n",
      "50000/50000 [==============================] - 1s 13us/step - loss: 1.0518 - acc: 0.6424 - val_loss: 1.4661 - val_acc: 0.4904\n",
      "Epoch 20/25\n",
      "50000/50000 [==============================] - 1s 13us/step - loss: 1.0286 - acc: 0.6524 - val_loss: 1.4563 - val_acc: 0.4980\n",
      "Epoch 21/25\n",
      "50000/50000 [==============================] - 1s 13us/step - loss: 1.0067 - acc: 0.6595 - val_loss: 1.4645 - val_acc: 0.4906\n",
      "Epoch 22/25\n",
      "50000/50000 [==============================] - 1s 13us/step - loss: 0.9851 - acc: 0.6681 - val_loss: 1.4580 - val_acc: 0.4917\n",
      "Epoch 23/25\n",
      "50000/50000 [==============================] - 1s 13us/step - loss: 0.9622 - acc: 0.6775 - val_loss: 1.4647 - val_acc: 0.4926\n",
      "Epoch 24/25\n",
      "50000/50000 [==============================] - 1s 13us/step - loss: 0.9432 - acc: 0.6857 - val_loss: 1.4779 - val_acc: 0.4986\n",
      "Epoch 25/25\n",
      "50000/50000 [==============================] - 1s 13us/step - loss: 0.9209 - acc: 0.6919 - val_loss: 1.4572 - val_acc: 0.4963\n"
     ]
    }
   ],
   "source": [
    "model = build_mlp(input_shape=x_train.shape[1:])\n",
    "model.summary()\n",
    "optimizer = keras.optimizers.SGD(lr=LEARNING_RATE, nesterov=True, momentum=MOMENTUM)\n",
    "model.compile(loss=\"categorical_crossentropy\", metrics=[\"accuracy\"], optimizer=optimizer)\n",
    "\n",
    "\"\"\"Code Here\n",
    "將 callbacks 放入模型訓練流程中\n",
    "\"\"\"\n",
    "model.fit(x_train, y_train, \n",
    "          epochs=EPOCHS, \n",
    "          batch_size=BATCH_SIZE, \n",
    "          validation_data=(x_test, y_test), \n",
    "          shuffle=True,\n",
    "          callbacks=[rec_tptn]\n",
    "         )\n",
    "\n",
    "# Collect results\n",
    "train_loss = model.history.history[\"loss\"]\n",
    "valid_loss = model.history.history[\"val_loss\"]\n",
    "train_acc = model.history.history[\"acc\"]\n",
    "valid_acc = model.history.history[\"val_acc\"]\n",
    "\n",
    "\"\"\"Code Here\n",
    "將 tp/tn 從訓練完的模型中取出\n",
    "\"\"\"\n",
    "valid_tp = model.history.history['val_tp']\n",
    "valid_tn = model.history.history['val_tn']"
   ]
  },
  {
   "cell_type": "code",
   "execution_count": 21,
   "metadata": {},
   "outputs": [
    {
     "data": {
      "image/png": "[encoded data removed]",
      "text/plain": [
       "<Figure size 432x288 with 1 Axes>"
      ]
     },
     "metadata": {
      "needs_background": "light"
     },
     "output_type": "display_data"
    },
    {
     "data": {
      "image/png": "[encoded data removed]",
      "text/plain": [
       "<Figure size 432x288 with 1 Axes>"
      ]
     },
     "metadata": {
      "needs_background": "light"
     },
     "output_type": "display_data"
    },
    {
     "data": {
      "image/png": "[encoded data removed]",
      "text/plain": [
       "<Figure size 432x288 with 1 Axes>"
      ]
     },
     "metadata": {
      "needs_background": "light"
     },
     "output_type": "display_data"
    }
   ],
   "source": [
    "import matplotlib.pyplot as plt\n",
    "%matplotlib inline\n",
    "\n",
    "plt.plot(range(len(train_loss)), train_loss, label=\"train loss\")\n",
    "plt.plot(range(len(valid_loss)), valid_loss, label=\"valid loss\")\n",
    "plt.legend()\n",
    "plt.title(\"Loss\")\n",
    "plt.show()\n",
    "\n",
    "plt.plot(range(len(train_acc)), train_acc, label=\"train accuracy\")\n",
    "plt.plot(range(len(valid_acc)), valid_acc, label=\"valid accuracy\")\n",
    "plt.legend()\n",
    "plt.title(\"Accuracy\")\n",
    "plt.show()\n",
    "\n",
    "plt.plot(range(len(valid_tp)), valid_tp, label=\"valid tp\", color=\"navy\")\n",
    "plt.plot(range(len(valid_tn)), valid_tn, label=\"valid tn\", color=\"red\")\n",
    "plt.legend()\n",
    "plt.title(\"True positives and True Negatives\")\n",
    "plt.show()\n"
   ]
  }
 ],
 "metadata": {
  "kernelspec": {
   "display_name": "Python 3",
   "language": "python",
   "name": "python3"
  },
  "language_info": {
   "codemirror_mode": {
    "name": "ipython",
    "version": 3
   },
   "file_extension": ".py",
   "mimetype": "text/x-python",
   "name": "python",
   "nbconvert_exporter": "python",
   "pygments_lexer": "ipython3",
   "version": "3.6.7"
  }
 },
 "nbformat": 4,
 "nbformat_minor": 2
}
