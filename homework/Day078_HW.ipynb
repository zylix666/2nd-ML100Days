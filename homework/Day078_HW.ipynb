{
 "cells": [
  {
   "cell_type": "markdown",
   "metadata": {},
   "source": [
    "## Work\n",
    "1. 請嘗試將 preproc_x 替換成以每筆資料的 min/max 進行標準化至 -1 ~ 1 間，再進行訓練\n",
    "2. 請嘗試將 mlp 疊更深 (e.g 5~10 層)，進行訓練後觀察 learning curve 的走勢\n",
    "3. (optional) 請改用 GPU 進行訓練 (如果你有 GPU 的話)，比較使用 CPU 與 GPU 的訓練速度"
   ]
  },
  {
   "cell_type": "code",
   "execution_count": 1,
   "metadata": {},
   "outputs": [
    {
     "data": {
      "text/plain": [
       "'\\nYour code here (optional)\\n確認硬體資源\\n'"
      ]
     },
     "execution_count": 1,
     "metadata": {},
     "output_type": "execute_result"
    }
   ],
   "source": [
    "## \n",
    "\"\"\"\n",
    "Your code here (optional)\n",
    "確認硬體資源\n",
    "\"\"\"\n"
   ]
  },
  {
   "cell_type": "code",
   "execution_count": 2,
   "metadata": {},
   "outputs": [
    {
     "name": "stderr",
     "output_type": "stream",
     "text": [
      "Using TensorFlow backend.\n"
     ]
    }
   ],
   "source": [
    "import os\n",
    "import keras\n",
    "import numpy as np\n",
    "\n",
    "# 請嘗試設定 GPU：os.environ\n",
    "os.environ[\"CUDA_VISIBLE_DEVICES\"] = \"0\""
   ]
  },
  {
   "cell_type": "code",
   "execution_count": 3,
   "metadata": {},
   "outputs": [],
   "source": [
    "train, test = keras.datasets.cifar10.load_data()"
   ]
  },
  {
   "cell_type": "code",
   "execution_count": 4,
   "metadata": {},
   "outputs": [],
   "source": [
    "## 資料前處理\n",
    "\"\"\"\n",
    "Your code here\n",
    "\"\"\"\n",
    "def preproc_x(x, flatten = True):\n",
    "    min_x = np.min(x)\n",
    "    max_x = np.max(x)\n",
    "    x  = (2*((x-min_x)/(max_x-min_x)))-1\n",
    "    if flatten:\n",
    "        x = x.reshape((len(x), -1))\n",
    "    return x\n",
    "\n",
    "def preproc_y(y, num_classes=10):\n",
    "    if y.shape[-1] == 1:\n",
    "        y = keras.utils.to_categorical(y, num_classes)\n",
    "    return y"
   ]
  },
  {
   "cell_type": "code",
   "execution_count": 5,
   "metadata": {},
   "outputs": [
    {
     "name": "stdout",
     "output_type": "stream",
     "text": [
      " x_train min :  -1.0\n",
      " x_train max :  1.0\n"
     ]
    }
   ],
   "source": [
    "x_train, y_train = train\n",
    "x_test, y_test = test\n",
    "\n",
    "# Preproc the inputs\n",
    "x_train = preproc_x(x_train)\n",
    "x_test = preproc_x(x_test)\n",
    "\n",
    "# validate process result\n",
    "print(\" x_train min : \", np.min(x_train))\n",
    "print(\" x_train max : \", np.max(x_train))\n",
    "# Preprc the outputs\n",
    "y_train = preproc_y(y_train)\n",
    "y_test = preproc_y(y_test)"
   ]
  },
  {
   "cell_type": "code",
   "execution_count": 6,
   "metadata": {},
   "outputs": [],
   "source": [
    "\"\"\"Code Here\n",
    "建立你的神經網路\n",
    "\"\"\"\n",
    "def build_mlp(input_shape, output_units=10, num_neurons=[512, 256, 128]):\n",
    "    input_layer = keras.layers.Input(input_shape)\n",
    "    \n",
    "    for i, n_units in enumerate(num_neurons):\n",
    "        if i == 0:\n",
    "            x = keras.layers.Dense(units=n_units, activation=\"relu\", name=\"hidden_layer\"+str(i+1))(input_layer)\n",
    "        else:\n",
    "            x = keras.layers.Dense(units=n_units, activation=\"relu\", name=\"hidden_layer\"+str(i+1))(x)\n",
    "    \n",
    "    out = keras.layers.Dense(units=output_units, activation=\"softmax\", name=\"output\")(x)\n",
    "    \n",
    "    model = keras.models.Model(inputs=[input_layer], outputs=[out])\n",
    "    return model\n",
    "\n"
   ]
  },
  {
   "cell_type": "markdown",
   "metadata": {},
   "source": [
    "### 多加入網路層, 共7層"
   ]
  },
  {
   "cell_type": "code",
   "execution_count": 7,
   "metadata": {},
   "outputs": [
    {
     "name": "stderr",
     "output_type": "stream",
     "text": [
      "WARNING: Logging before flag parsing goes to stderr.\n",
      "W0713 20:28:22.849819 140129656223552 deprecation.py:237] From /home/simon/tf_workspace/lib/python3.6/site-packages/keras/backend/tensorflow_backend.py:4139: The name tf.random_uniform is deprecated. Please use tf.random.uniform instead.\n",
      "\n"
     ]
    },
    {
     "name": "stdout",
     "output_type": "stream",
     "text": [
      "_________________________________________________________________\n",
      "Layer (type)                 Output Shape              Param #   \n",
      "=================================================================\n",
      "input_1 (InputLayer)         (None, 3072)              0         \n",
      "_________________________________________________________________\n",
      "hidden_layer1 (Dense)        (None, 1024)              3146752   \n",
      "_________________________________________________________________\n",
      "hidden_layer2 (Dense)        (None, 512)               524800    \n",
      "_________________________________________________________________\n",
      "hidden_layer3 (Dense)        (None, 265)               135945    \n",
      "_________________________________________________________________\n",
      "hidden_layer4 (Dense)        (None, 128)               34048     \n",
      "_________________________________________________________________\n",
      "hidden_layer5 (Dense)        (None, 64)                8256      \n",
      "_________________________________________________________________\n",
      "hidden_layer6 (Dense)        (None, 32)                2080      \n",
      "_________________________________________________________________\n",
      "hidden_layer7 (Dense)        (None, 16)                528       \n",
      "_________________________________________________________________\n",
      "output (Dense)               (None, 10)                170       \n",
      "=================================================================\n",
      "Total params: 3,852,579\n",
      "Trainable params: 3,852,579\n",
      "Non-trainable params: 0\n",
      "_________________________________________________________________\n"
     ]
    }
   ],
   "source": [
    "model = build_mlp(input_shape=x_train.shape[1:], num_neurons=[1024,512,265,128,64,32,16])\n",
    "model.summary()"
   ]
  },
  {
   "cell_type": "code",
   "execution_count": 8,
   "metadata": {},
   "outputs": [],
   "source": [
    "## 超參數設定\n",
    "LEARNING_RATE = 0.001\n",
    "EPOCHS = 100\n",
    "BATCH_SIZE = 256"
   ]
  },
  {
   "cell_type": "code",
   "execution_count": 9,
   "metadata": {},
   "outputs": [
    {
     "name": "stderr",
     "output_type": "stream",
     "text": [
      "W0713 20:28:23.064910 140129656223552 deprecation.py:237] From /home/simon/tf_workspace/lib/python3.6/site-packages/keras/backend/tensorflow_backend.py:3295: The name tf.log is deprecated. Please use tf.math.log instead.\n",
      "\n"
     ]
    }
   ],
   "source": [
    "optimizer = keras.optimizers.Adam(lr=LEARNING_RATE)\n",
    "model.compile(loss=\"categorical_crossentropy\", metrics=[\"accuracy\"], optimizer=optimizer)"
   ]
  },
  {
   "cell_type": "code",
   "execution_count": 10,
   "metadata": {},
   "outputs": [
    {
     "name": "stdout",
     "output_type": "stream",
     "text": [
      "Train on 50000 samples, validate on 10000 samples\n",
      "Epoch 1/100\n",
      "50000/50000 [==============================] - 3s 51us/step - loss: 1.8393 - acc: 0.3316 - val_loss: 1.6377 - val_acc: 0.4226\n",
      "Epoch 2/100\n",
      "50000/50000 [==============================] - 1s 27us/step - loss: 1.5868 - acc: 0.4431 - val_loss: 1.5496 - val_acc: 0.4477\n",
      "Epoch 3/100\n",
      "50000/50000 [==============================] - 1s 27us/step - loss: 1.4543 - acc: 0.4880 - val_loss: 1.4568 - val_acc: 0.4903\n",
      "Epoch 4/100\n",
      "50000/50000 [==============================] - 1s 26us/step - loss: 1.3470 - acc: 0.5269 - val_loss: 1.4361 - val_acc: 0.5013\n",
      "Epoch 5/100\n",
      "50000/50000 [==============================] - 1s 26us/step - loss: 1.2580 - acc: 0.5598 - val_loss: 1.3752 - val_acc: 0.5294\n",
      "Epoch 6/100\n",
      "50000/50000 [==============================] - 1s 26us/step - loss: 1.1664 - acc: 0.5890 - val_loss: 1.3915 - val_acc: 0.5234\n",
      "Epoch 7/100\n",
      "50000/50000 [==============================] - 1s 27us/step - loss: 1.0901 - acc: 0.6168 - val_loss: 1.4206 - val_acc: 0.5211\n",
      "Epoch 8/100\n",
      "50000/50000 [==============================] - 1s 28us/step - loss: 1.0062 - acc: 0.6467 - val_loss: 1.3946 - val_acc: 0.5338\n",
      "Epoch 9/100\n",
      "50000/50000 [==============================] - 1s 28us/step - loss: 0.9250 - acc: 0.6739 - val_loss: 1.4310 - val_acc: 0.5307\n",
      "Epoch 10/100\n",
      "50000/50000 [==============================] - 1s 27us/step - loss: 0.8524 - acc: 0.6984 - val_loss: 1.4576 - val_acc: 0.5341\n",
      "Epoch 11/100\n",
      "50000/50000 [==============================] - 1s 28us/step - loss: 0.7782 - acc: 0.7268 - val_loss: 1.5846 - val_acc: 0.5347\n",
      "Epoch 12/100\n",
      "50000/50000 [==============================] - 1s 26us/step - loss: 0.7058 - acc: 0.7497 - val_loss: 1.6338 - val_acc: 0.5441\n",
      "Epoch 13/100\n",
      "50000/50000 [==============================] - 1s 25us/step - loss: 0.6459 - acc: 0.7710 - val_loss: 1.6312 - val_acc: 0.5408\n",
      "Epoch 14/100\n",
      "50000/50000 [==============================] - 1s 25us/step - loss: 0.5867 - acc: 0.7928 - val_loss: 1.7617 - val_acc: 0.5394\n",
      "Epoch 15/100\n",
      "50000/50000 [==============================] - 1s 26us/step - loss: 0.5298 - acc: 0.8118 - val_loss: 1.7883 - val_acc: 0.5386\n",
      "Epoch 16/100\n",
      "50000/50000 [==============================] - 1s 26us/step - loss: 0.4841 - acc: 0.8309 - val_loss: 1.9858 - val_acc: 0.5421\n",
      "Epoch 17/100\n",
      "50000/50000 [==============================] - 1s 27us/step - loss: 0.4301 - acc: 0.8496 - val_loss: 2.0197 - val_acc: 0.5409\n",
      "Epoch 18/100\n",
      "50000/50000 [==============================] - 1s 27us/step - loss: 0.3904 - acc: 0.8622 - val_loss: 2.1250 - val_acc: 0.5466\n",
      "Epoch 19/100\n",
      "50000/50000 [==============================] - 1s 26us/step - loss: 0.3760 - acc: 0.8671 - val_loss: 2.1538 - val_acc: 0.5427\n",
      "Epoch 20/100\n",
      "50000/50000 [==============================] - 1s 26us/step - loss: 0.3270 - acc: 0.8865 - val_loss: 2.3445 - val_acc: 0.5376\n",
      "Epoch 21/100\n",
      "50000/50000 [==============================] - 1s 27us/step - loss: 0.3084 - acc: 0.8930 - val_loss: 2.3614 - val_acc: 0.5431\n",
      "Epoch 22/100\n",
      "50000/50000 [==============================] - 1s 28us/step - loss: 0.2829 - acc: 0.9022 - val_loss: 2.5407 - val_acc: 0.5413\n",
      "Epoch 23/100\n",
      "50000/50000 [==============================] - 1s 27us/step - loss: 0.2644 - acc: 0.9095 - val_loss: 2.4648 - val_acc: 0.5387\n",
      "Epoch 24/100\n",
      "50000/50000 [==============================] - 1s 26us/step - loss: 0.2373 - acc: 0.9192 - val_loss: 2.5584 - val_acc: 0.5449\n",
      "Epoch 25/100\n",
      "50000/50000 [==============================] - 1s 26us/step - loss: 0.2360 - acc: 0.9199 - val_loss: 2.6259 - val_acc: 0.5419\n",
      "Epoch 26/100\n",
      "50000/50000 [==============================] - 1s 27us/step - loss: 0.2125 - acc: 0.9284 - val_loss: 2.7407 - val_acc: 0.5324\n",
      "Epoch 27/100\n",
      "50000/50000 [==============================] - 1s 29us/step - loss: 0.2214 - acc: 0.9260 - val_loss: 2.6642 - val_acc: 0.5377\n",
      "Epoch 28/100\n",
      "50000/50000 [==============================] - 1s 26us/step - loss: 0.1887 - acc: 0.9362 - val_loss: 2.8415 - val_acc: 0.5393\n",
      "Epoch 29/100\n",
      "50000/50000 [==============================] - 1s 26us/step - loss: 0.1962 - acc: 0.9336 - val_loss: 2.8815 - val_acc: 0.5381\n",
      "Epoch 30/100\n",
      "50000/50000 [==============================] - 1s 26us/step - loss: 0.1763 - acc: 0.9417 - val_loss: 2.8660 - val_acc: 0.5404\n",
      "Epoch 31/100\n",
      "50000/50000 [==============================] - 1s 26us/step - loss: 0.1870 - acc: 0.9380 - val_loss: 2.8356 - val_acc: 0.5361\n",
      "Epoch 32/100\n",
      "50000/50000 [==============================] - 1s 27us/step - loss: 0.1513 - acc: 0.9489 - val_loss: 3.0296 - val_acc: 0.5359\n",
      "Epoch 33/100\n",
      "50000/50000 [==============================] - 1s 26us/step - loss: 0.1504 - acc: 0.9496 - val_loss: 3.0068 - val_acc: 0.5389\n",
      "Epoch 34/100\n",
      "50000/50000 [==============================] - 1s 26us/step - loss: 0.1687 - acc: 0.9441 - val_loss: 2.9895 - val_acc: 0.5409\n",
      "Epoch 35/100\n",
      "50000/50000 [==============================] - 1s 27us/step - loss: 0.1370 - acc: 0.9552 - val_loss: 3.0225 - val_acc: 0.5458\n",
      "Epoch 36/100\n",
      "50000/50000 [==============================] - 1s 27us/step - loss: 0.1371 - acc: 0.9548 - val_loss: 2.9635 - val_acc: 0.5428\n",
      "Epoch 37/100\n",
      "50000/50000 [==============================] - 1s 27us/step - loss: 0.1465 - acc: 0.9503 - val_loss: 3.0854 - val_acc: 0.5354\n",
      "Epoch 38/100\n",
      "50000/50000 [==============================] - 1s 27us/step - loss: 0.1354 - acc: 0.9555 - val_loss: 3.1475 - val_acc: 0.5413\n",
      "Epoch 39/100\n",
      "50000/50000 [==============================] - 1s 28us/step - loss: 0.1314 - acc: 0.9577 - val_loss: 3.0078 - val_acc: 0.5406\n",
      "Epoch 40/100\n",
      "50000/50000 [==============================] - 1s 28us/step - loss: 0.1254 - acc: 0.9595 - val_loss: 3.1240 - val_acc: 0.5303\n",
      "Epoch 41/100\n",
      "50000/50000 [==============================] - 1s 27us/step - loss: 0.1160 - acc: 0.9618 - val_loss: 3.0811 - val_acc: 0.5383\n",
      "Epoch 42/100\n",
      "50000/50000 [==============================] - 1s 27us/step - loss: 0.1210 - acc: 0.9606 - val_loss: 3.1012 - val_acc: 0.5280\n",
      "Epoch 43/100\n",
      "50000/50000 [==============================] - 1s 27us/step - loss: 0.1199 - acc: 0.9615 - val_loss: 3.1039 - val_acc: 0.5368\n",
      "Epoch 44/100\n",
      "50000/50000 [==============================] - 1s 26us/step - loss: 0.1067 - acc: 0.9653 - val_loss: 3.2796 - val_acc: 0.5368\n",
      "Epoch 45/100\n",
      "50000/50000 [==============================] - 1s 27us/step - loss: 0.1029 - acc: 0.9669 - val_loss: 3.2424 - val_acc: 0.5408\n",
      "Epoch 46/100\n",
      "50000/50000 [==============================] - 1s 27us/step - loss: 0.1095 - acc: 0.9643 - val_loss: 3.1762 - val_acc: 0.5328\n",
      "Epoch 47/100\n",
      "50000/50000 [==============================] - 1s 28us/step - loss: 0.1052 - acc: 0.9659 - val_loss: 3.3078 - val_acc: 0.5417\n",
      "Epoch 48/100\n",
      "50000/50000 [==============================] - 1s 26us/step - loss: 0.0967 - acc: 0.9684 - val_loss: 3.1650 - val_acc: 0.5481\n",
      "Epoch 49/100\n",
      "50000/50000 [==============================] - 1s 26us/step - loss: 0.1019 - acc: 0.9672 - val_loss: 3.2187 - val_acc: 0.5408\n",
      "Epoch 50/100\n",
      "50000/50000 [==============================] - 1s 27us/step - loss: 0.0984 - acc: 0.9680 - val_loss: 3.1748 - val_acc: 0.5341\n",
      "Epoch 51/100\n",
      "50000/50000 [==============================] - 1s 27us/step - loss: 0.0964 - acc: 0.9692 - val_loss: 3.3709 - val_acc: 0.5387\n",
      "Epoch 52/100\n",
      "50000/50000 [==============================] - 1s 27us/step - loss: 0.0912 - acc: 0.9713 - val_loss: 3.3593 - val_acc: 0.5403\n",
      "Epoch 53/100\n",
      "50000/50000 [==============================] - 1s 27us/step - loss: 0.0964 - acc: 0.9686 - val_loss: 3.2834 - val_acc: 0.5412\n",
      "Epoch 54/100\n",
      "50000/50000 [==============================] - 1s 26us/step - loss: 0.0968 - acc: 0.9691 - val_loss: 3.2343 - val_acc: 0.5415\n",
      "Epoch 55/100\n",
      "50000/50000 [==============================] - 1s 27us/step - loss: 0.0908 - acc: 0.9705 - val_loss: 3.2498 - val_acc: 0.5341\n",
      "Epoch 56/100\n",
      "50000/50000 [==============================] - 1s 27us/step - loss: 0.0864 - acc: 0.9718 - val_loss: 3.3394 - val_acc: 0.5413\n",
      "Epoch 57/100\n",
      "50000/50000 [==============================] - 1s 28us/step - loss: 0.0812 - acc: 0.9736 - val_loss: 3.3105 - val_acc: 0.5364\n",
      "Epoch 58/100\n",
      "50000/50000 [==============================] - 1s 27us/step - loss: 0.0982 - acc: 0.9695 - val_loss: 3.2757 - val_acc: 0.5376\n",
      "Epoch 59/100\n"
     ]
    },
    {
     "name": "stdout",
     "output_type": "stream",
     "text": [
      "50000/50000 [==============================] - 1s 26us/step - loss: 0.0651 - acc: 0.9786 - val_loss: 3.3708 - val_acc: 0.5444\n",
      "Epoch 60/100\n",
      "50000/50000 [==============================] - 1s 27us/step - loss: 0.0857 - acc: 0.9733 - val_loss: 3.2182 - val_acc: 0.5453\n",
      "Epoch 61/100\n",
      "50000/50000 [==============================] - 1s 27us/step - loss: 0.0896 - acc: 0.9723 - val_loss: 3.4366 - val_acc: 0.5378\n",
      "Epoch 62/100\n",
      "50000/50000 [==============================] - 1s 26us/step - loss: 0.0796 - acc: 0.9762 - val_loss: 3.3414 - val_acc: 0.5344\n",
      "Epoch 63/100\n",
      "50000/50000 [==============================] - 1s 26us/step - loss: 0.0773 - acc: 0.9752 - val_loss: 3.4381 - val_acc: 0.5444\n",
      "Epoch 64/100\n",
      "50000/50000 [==============================] - 1s 27us/step - loss: 0.0700 - acc: 0.9780 - val_loss: 3.4050 - val_acc: 0.5390\n",
      "Epoch 65/100\n",
      "50000/50000 [==============================] - 1s 27us/step - loss: 0.0715 - acc: 0.9776 - val_loss: 3.3722 - val_acc: 0.5367\n",
      "Epoch 66/100\n",
      "50000/50000 [==============================] - 1s 27us/step - loss: 0.0733 - acc: 0.9770 - val_loss: 3.4713 - val_acc: 0.5334\n",
      "Epoch 67/100\n",
      "50000/50000 [==============================] - 1s 26us/step - loss: 0.0796 - acc: 0.9755 - val_loss: 3.4842 - val_acc: 0.5364\n",
      "Epoch 68/100\n",
      "50000/50000 [==============================] - 1s 27us/step - loss: 0.0752 - acc: 0.9764 - val_loss: 3.4747 - val_acc: 0.5419\n",
      "Epoch 69/100\n",
      "50000/50000 [==============================] - 1s 27us/step - loss: 0.0764 - acc: 0.9760 - val_loss: 3.3293 - val_acc: 0.5403\n",
      "Epoch 70/100\n",
      "50000/50000 [==============================] - 1s 27us/step - loss: 0.0698 - acc: 0.9778 - val_loss: 3.5474 - val_acc: 0.5443\n",
      "Epoch 71/100\n",
      "50000/50000 [==============================] - 1s 27us/step - loss: 0.0662 - acc: 0.9788 - val_loss: 3.5091 - val_acc: 0.5380\n",
      "Epoch 72/100\n",
      "50000/50000 [==============================] - 1s 27us/step - loss: 0.0646 - acc: 0.9794 - val_loss: 3.4515 - val_acc: 0.5386\n",
      "Epoch 73/100\n",
      "50000/50000 [==============================] - 1s 27us/step - loss: 0.0637 - acc: 0.9790 - val_loss: 3.4417 - val_acc: 0.5470\n",
      "Epoch 74/100\n",
      "50000/50000 [==============================] - 1s 27us/step - loss: 0.0649 - acc: 0.9792 - val_loss: 3.3882 - val_acc: 0.5423\n",
      "Epoch 75/100\n",
      "50000/50000 [==============================] - 1s 27us/step - loss: 0.0725 - acc: 0.9767 - val_loss: 3.3289 - val_acc: 0.5482\n",
      "Epoch 76/100\n",
      "50000/50000 [==============================] - 1s 28us/step - loss: 0.0684 - acc: 0.9787 - val_loss: 3.4679 - val_acc: 0.5402\n",
      "Epoch 77/100\n",
      "50000/50000 [==============================] - 1s 27us/step - loss: 0.0782 - acc: 0.9757 - val_loss: 3.4211 - val_acc: 0.5403\n",
      "Epoch 78/100\n",
      "50000/50000 [==============================] - 1s 26us/step - loss: 0.0564 - acc: 0.9825 - val_loss: 3.4090 - val_acc: 0.5344\n",
      "Epoch 79/100\n",
      "50000/50000 [==============================] - 1s 26us/step - loss: 0.0652 - acc: 0.9794 - val_loss: 3.3915 - val_acc: 0.5346\n",
      "Epoch 80/100\n",
      "50000/50000 [==============================] - 1s 26us/step - loss: 0.0531 - acc: 0.9834 - val_loss: 3.4772 - val_acc: 0.5380\n",
      "Epoch 81/100\n",
      "50000/50000 [==============================] - 1s 26us/step - loss: 0.0619 - acc: 0.9811 - val_loss: 3.4159 - val_acc: 0.5440\n",
      "Epoch 82/100\n",
      "50000/50000 [==============================] - 1s 26us/step - loss: 0.0560 - acc: 0.9830 - val_loss: 3.3567 - val_acc: 0.5411\n",
      "Epoch 83/100\n",
      "50000/50000 [==============================] - 1s 26us/step - loss: 0.0670 - acc: 0.9800 - val_loss: 3.3195 - val_acc: 0.5402\n",
      "Epoch 84/100\n",
      "50000/50000 [==============================] - 1s 26us/step - loss: 0.0577 - acc: 0.9826 - val_loss: 3.4946 - val_acc: 0.5400\n",
      "Epoch 85/100\n",
      "50000/50000 [==============================] - 1s 27us/step - loss: 0.0611 - acc: 0.9808 - val_loss: 3.3614 - val_acc: 0.5504\n",
      "Epoch 86/100\n",
      "50000/50000 [==============================] - 1s 27us/step - loss: 0.0621 - acc: 0.9818 - val_loss: 3.4642 - val_acc: 0.5390\n",
      "Epoch 87/100\n",
      "50000/50000 [==============================] - 1s 28us/step - loss: 0.0558 - acc: 0.9828 - val_loss: 3.4564 - val_acc: 0.5343\n",
      "Epoch 88/100\n",
      "50000/50000 [==============================] - 1s 26us/step - loss: 0.0677 - acc: 0.9791 - val_loss: 3.3677 - val_acc: 0.5444\n",
      "Epoch 89/100\n",
      "50000/50000 [==============================] - 1s 27us/step - loss: 0.0449 - acc: 0.9858 - val_loss: 3.5951 - val_acc: 0.5387\n",
      "Epoch 90/100\n",
      "50000/50000 [==============================] - 1s 26us/step - loss: 0.0680 - acc: 0.9780 - val_loss: 3.4411 - val_acc: 0.5421\n",
      "Epoch 91/100\n",
      "50000/50000 [==============================] - 1s 26us/step - loss: 0.0521 - acc: 0.9848 - val_loss: 3.5033 - val_acc: 0.5468\n",
      "Epoch 92/100\n",
      "50000/50000 [==============================] - 1s 26us/step - loss: 0.0557 - acc: 0.9833 - val_loss: 3.5457 - val_acc: 0.5425\n",
      "Epoch 93/100\n",
      "50000/50000 [==============================] - 1s 26us/step - loss: 0.0430 - acc: 0.9866 - val_loss: 3.5609 - val_acc: 0.5484\n",
      "Epoch 94/100\n",
      "50000/50000 [==============================] - 1s 27us/step - loss: 0.0563 - acc: 0.9826 - val_loss: 3.4561 - val_acc: 0.5486\n",
      "Epoch 95/100\n",
      "50000/50000 [==============================] - 1s 26us/step - loss: 0.0701 - acc: 0.9790 - val_loss: 3.4151 - val_acc: 0.5406\n",
      "Epoch 96/100\n",
      "50000/50000 [==============================] - 1s 27us/step - loss: 0.0485 - acc: 0.9853 - val_loss: 3.5018 - val_acc: 0.5391\n",
      "Epoch 97/100\n",
      "50000/50000 [==============================] - 1s 27us/step - loss: 0.0423 - acc: 0.9870 - val_loss: 3.3462 - val_acc: 0.5472\n",
      "Epoch 98/100\n",
      "50000/50000 [==============================] - 1s 27us/step - loss: 0.0491 - acc: 0.9843 - val_loss: 3.6239 - val_acc: 0.5375\n",
      "Epoch 99/100\n",
      "50000/50000 [==============================] - 1s 26us/step - loss: 0.0500 - acc: 0.9845 - val_loss: 3.5468 - val_acc: 0.5382\n",
      "Epoch 100/100\n",
      "50000/50000 [==============================] - 1s 28us/step - loss: 0.0648 - acc: 0.9805 - val_loss: 3.5062 - val_acc: 0.5366\n"
     ]
    },
    {
     "data": {
      "text/plain": [
       "<keras.callbacks.History at 0x7f71e387ce10>"
      ]
     },
     "execution_count": 10,
     "metadata": {},
     "output_type": "execute_result"
    }
   ],
   "source": [
    "model.fit(x_train, y_train, \n",
    "          epochs=EPOCHS, \n",
    "          batch_size=BATCH_SIZE, \n",
    "          validation_data=(x_test, y_test), \n",
    "          shuffle=True)"
   ]
  },
  {
   "cell_type": "code",
   "execution_count": 14,
   "metadata": {},
   "outputs": [
    {
     "data": {
      "image/png": "[encoded data removed]",
      "text/plain": [
       "<Figure size 432x288 with 1 Axes>"
      ]
     },
     "metadata": {
      "needs_background": "light"
     },
     "output_type": "display_data"
    },
    {
     "data": {
      "image/png": "[encoded data removed]",
      "text/plain": [
       "<Figure size 432x288 with 1 Axes>"
      ]
     },
     "metadata": {
      "needs_background": "light"
     },
     "output_type": "display_data"
    }
   ],
   "source": [
    "import matplotlib.pyplot as plt\n",
    "%matplotlib inline\n",
    "\n",
    "train_loss = model.history.history[\"loss\"]\n",
    "valid_loss = model.history.history[\"val_loss\"]\n",
    "\n",
    "train_acc = model.history.history[\"acc\"]\n",
    "valid_acc = model.history.history[\"val_acc\"]\n",
    "\n",
    "plt.plot(range(len(train_loss)), train_loss, label=\"train loss\")\n",
    "plt.plot(range(len(valid_loss)), valid_loss, label=\"valid loss\")\n",
    "plt.legend()\n",
    "plt.title(\"Loss\")\n",
    "plt.show()\n",
    "\n",
    "plt.plot(range(len(train_acc)), train_acc, label=\"train accuracy\")\n",
    "plt.plot(range(len(valid_acc)), valid_acc, label=\"valid accuracy\")\n",
    "plt.legend()\n",
    "plt.title(\"Accuracy\")\n",
    "plt.show()"
   ]
  },
  {
   "cell_type": "markdown",
   "metadata": {},
   "source": [
    "### 改用CPU來訓練的log"
   ]
  },
  {
   "cell_type": "code",
   "execution_count": 12,
   "metadata": {},
   "outputs": [
    {
     "data": {
      "text/plain": [
       "'\\nos.environ[\"CUDA_VISIBLE_DEVICES\"] = \"\"\\nmodel.fit(x_train, y_train, \\n          epochs=EPOCHS, \\n          batch_size=BATCH_SIZE, \\n          validation_data=(x_test, y_test), \\n          shuffle=True)\\n'"
      ]
     },
     "execution_count": 12,
     "metadata": {},
     "output_type": "execute_result"
    }
   ],
   "source": [
    "'''\n",
    "os.environ[\"CUDA_VISIBLE_DEVICES\"] = \"\"\n",
    "model.fit(x_train, y_train, \n",
    "          epochs=EPOCHS, \n",
    "          batch_size=BATCH_SIZE, \n",
    "          validation_data=(x_test, y_test), \n",
    "          shuffle=True)\n",
    "'''"
   ]
  },
  {
   "cell_type": "markdown",
   "metadata": {},
   "source": [
    "Train on 50000 samples, validate on 10000 samples\n",
    "\n",
    "Epoch 1/100\n",
    "\n",
    "50000/50000 [==============================] - 8s 160us/step - loss: 1.7721 - acc: 0.3685 - val_loss: 1.6023 - val_acc: 0.4282\n",
    "\n",
    "Epoch 2/100\n",
    "\n",
    "50000/50000 [==============================] - 7s 145us/step - loss: 1.5176 - acc: 0.4634 - val_loss: 1.4586 - val_acc: 0.4872\n",
    "\n",
    "Epoch 3/100\n",
    "\n",
    "50000/50000 [==============================] - 7s 145us/step - loss: 1.3938 - acc: 0.5108 - val_loss: 1.4341 - val_acc: 0.4915\n",
    "\n",
    "Epoch 4/100\n",
    "\n",
    "50000/50000 [==============================] - 7s 145us/step - loss: 1.2955 - acc: 0.5432 - val_loss: 1.3732 - val_acc: 0.5131\n",
    "\n",
    "Epoch 5/100\n",
    "\n",
    "50000/50000 [==============================] - 7s 145us/step - loss: 1.2005 - acc: 0.5787 - val_loss: 1.3503 - val_acc: 0.5330\n",
    "\n",
    "Epoch 6/100\n",
    "\n",
    "50000/50000 [==============================] - 7s 145us/step - loss: 1.1120 - acc: 0.6079 - val_loss: 1.3725 - val_acc: 0.5321\n",
    "\n",
    "Epoch 7/100\n",
    "\n",
    "50000/50000 [==============================] - 7s 145us/step - loss: 1.0317 - acc: 0.6373 - val_loss: 1.3999 - val_acc: 0.5357\n",
    "\n",
    "Epoch 8/100\n",
    "\n",
    "50000/50000 [==============================] - 7s 144us/step - loss: 0.9558 - acc: 0.6609 - val_loss: 1.3790 - val_acc: 0.5392\n",
    "\n",
    "Epoch 9/100\n",
    "\n",
    "50000/50000 [==============================] - 7s 145us/step - loss: 0.8749 - acc: 0.6898 - val_loss: 1.4442 - val_acc: 0.5509\n",
    "\n",
    "Epoch 10/100\n",
    "\n",
    "50000/50000 [==============================] - 7s 145us/step - loss: 0.8019 - acc: 0.7161 - val_loss: 1.4340 - val_acc: 0.5462\n",
    "\n",
    "Epoch 11/100\n",
    "\n",
    "50000/50000 [==============================] - 7s 145us/step - loss: 0.7344 - acc: 0.7405 - val_loss: 1.5654 - val_acc: 0.5427\n",
    "\n",
    "Epoch 12/100\n",
    "\n",
    "50000/50000 [==============================] - 7s 145us/step - loss: 0.6543 - acc: 0.7661 - val_loss: 1.5900 - val_acc: 0.5462\n",
    "\n",
    "Epoch 13/100\n",
    "\n",
    "50000/50000 [==============================] - 7s 145us/step - loss: 0.5992 - acc: 0.7881 - val_loss: 1.6495 - val_acc: 0.5408\n",
    "\n",
    "Epoch 14/100\n",
    "\n",
    "50000/50000 [==============================] - 7s 145us/step - loss: 0.5501 - acc: 0.8057 - val_loss: 1.7240 - val_acc: 0.5418\n",
    "\n",
    "Epoch 15/100"
   ]
  },
  {
   "cell_type": "code",
   "execution_count": null,
   "metadata": {},
   "outputs": [],
   "source": []
  }
 ],
 "metadata": {
  "kernelspec": {
   "display_name": "Python 3",
   "language": "python",
   "name": "python3"
  },
  "language_info": {
   "codemirror_mode": {
    "name": "ipython",
    "version": 3
   },
   "file_extension": ".py",
   "mimetype": "text/x-python",
   "name": "python",
   "nbconvert_exporter": "python",
   "pygments_lexer": "ipython3",
   "version": "3.6.7"
  }
 },
 "nbformat": 4,
 "nbformat_minor": 2
}
