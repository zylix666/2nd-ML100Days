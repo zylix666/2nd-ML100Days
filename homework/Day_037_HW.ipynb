{
 "cells": [
  {
   "cell_type": "markdown",
   "metadata": {},
   "source": [
    "## [作業重點]\n",
    "了解線性回歸的模型發展歷程，並了解優勢與劣勢，以及其使用情境"
   ]
  },
  {
   "cell_type": "markdown",
   "metadata": {},
   "source": [
    "## 作業"
   ]
  },
  {
   "cell_type": "markdown",
   "metadata": {},
   "source": [
    "請閱讀以下相關文獻，並回答以下問題\n",
    "\n",
    "[Linear Regression 詳細介紹](https://brohrer.mcknote.com/zh-Hant/how_machine_learning_works/how_linear_regression_works.html)\n",
    "\n",
    "[Logistics Regression 詳細介紹](https://medium.com/@yehjames/%E8%B3%87%E6%96%99%E5%88%86%E6%9E%90-%E6%A9%9F%E5%99%A8%E5%AD%B8%E7%BF%92-%E7%AC%AC3-3%E8%AC%9B-%E7%B7%9A%E6%80%A7%E5%88%86%E9%A1%9E-%E9%82%8F%E8%BC%AF%E6%96%AF%E5%9B%9E%E6%AD%B8-logistic-regression-%E4%BB%8B%E7%B4%B9-a1a5f47017e5)\n"
   ]
  },
  {
   "cell_type": "markdown",
   "metadata": {},
   "source": [
    "1. 線性回歸模型能夠準確預測非線性關係的資料集嗎?\n",
    "2. 回歸模型是否對資料分布有基本假設?\n"
   ]
  },
  {
   "cell_type": "markdown",
   "metadata": {},
   "source": [
    "* Answer1 : 可以增項的組合來擬合資料, 但無法準確預測."
   ]
  },
  {
   "cell_type": "markdown",
   "metadata": {},
   "source": [
    "* Answer2 :\n",
    "迴歸分析的基本統計假設有下列四項：\n",
    " 線性關係\n",
    "依變數和自變數之間的關係必須是線性，也就是說，依變數與自變數存在著\n",
    "相當固定比率的關係，若是發現依變數與自變數呈現非線性關係時，可以透\n",
    "過轉換(transform)成線性關係，再進行迴歸分析。\n",
    " 常態性(normality)\n",
    "若是資料呈現常態分配 (normal distribution)，則誤差項也會呈現同樣的分\n",
    "配，當樣本數夠大時，檢查的方式是使用簡單的 Histogram (直方圖)，若是\n",
    "樣本數較小時，檢查的方式是使用 normal probability plot (常態機率圖)。\n",
    " 誤差項的獨立性\n",
    "自變數的誤差項，相互之間應該是獨立的，也就是誤差項與誤差項之間没有\n",
    "相互關係，否則，在估計迴歸參數時，會降低統計的檢定力，我們可以藉由\n",
    "殘差(Residuals)的圖形分析來檢查，尤其是與時間序列和事件相關的資料，\n",
    "特別需要注意去處理。\n",
    " 誤差項的變異數相等(Homoscedasticity)\n",
    "自變數的誤差項除了需要呈現常態性分配外，其變量數也需要相等，變量數\n",
    "的不相等(heteroscedasticity)會導致自變數無法有效的估計應變數，例如：殘\n",
    "差分佈分析時，所呈現的三角形分佈和鑽石分佈，在 spss 軟體中，我們可以\n",
    "使用 Levene test，來測試變異數的一致性，當變異數的不相等發生時，我們\n",
    "可以透過轉換(transform)成變異數的相等後，再進行迴歸分析。 \n",
    "\n",
    "來源: http://www.gotop.com.tw/epaper/e0719/AEM000900n.pdf"
   ]
  },
  {
   "cell_type": "code",
   "execution_count": null,
   "metadata": {},
   "outputs": [],
   "source": []
  }
 ],
 "metadata": {
  "kernelspec": {
   "display_name": "Python 3",
   "language": "python",
   "name": "python3"
  },
  "language_info": {
   "codemirror_mode": {
    "name": "ipython",
    "version": 3
   },
   "file_extension": ".py",
   "mimetype": "text/x-python",
   "name": "python",
   "nbconvert_exporter": "python",
   "pygments_lexer": "ipython3",
   "version": "3.6.7"
  }
 },
 "nbformat": 4,
 "nbformat_minor": 2
}
