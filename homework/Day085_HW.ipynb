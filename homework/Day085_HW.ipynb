{
 "cells": [
  {
   "cell_type": "markdown",
   "metadata": {},
   "source": [
    "## Work\n",
    "1. 試改變 monitor \"Validation Accuracy\" 並比較結果\n",
    "2. 調整 earlystop 的等待次數至 10, 25 並比較結果"
   ]
  },
  {
   "cell_type": "code",
   "execution_count": 16,
   "metadata": {},
   "outputs": [],
   "source": [
    "import os\n",
    "import keras\n",
    "import matplotlib.pyplot as plt\n",
    "%matplotlib inline\n",
    "\n",
    "\n",
    "# Disable GPU\n",
    "os.environ[\"CUDA_VISIBLE_DEVICES\"] = \"1\""
   ]
  },
  {
   "cell_type": "code",
   "execution_count": 17,
   "metadata": {},
   "outputs": [],
   "source": [
    "train, test = keras.datasets.cifar10.load_data()"
   ]
  },
  {
   "cell_type": "code",
   "execution_count": 18,
   "metadata": {},
   "outputs": [],
   "source": [
    "## 資料前處理\n",
    "def preproc_x(x, flatten=True):\n",
    "    x = x / 255.\n",
    "    if flatten:\n",
    "        x = x.reshape((len(x), -1))\n",
    "    return x\n",
    "\n",
    "def preproc_y(y, num_classes=10):\n",
    "    if y.shape[-1] == 1:\n",
    "        y = keras.utils.to_categorical(y, num_classes)\n",
    "    return y    "
   ]
  },
  {
   "cell_type": "code",
   "execution_count": 19,
   "metadata": {},
   "outputs": [],
   "source": [
    "x_train, y_train = train\n",
    "x_test, y_test = test\n",
    "\n",
    "# Preproc the inputs\n",
    "x_train = preproc_x(x_train)\n",
    "x_test = preproc_x(x_test)\n",
    "\n",
    "# Preprc the outputs\n",
    "y_train = preproc_y(y_train)\n",
    "y_test = preproc_y(y_test)"
   ]
  },
  {
   "cell_type": "code",
   "execution_count": 20,
   "metadata": {},
   "outputs": [],
   "source": [
    "\n",
    "def build_mlp(input_shape, output_units=10, num_neurons=[512, 256, 128]):\n",
    "    \"\"\"Code Here\n",
    "    建立你的神經網路\n",
    "    \"\"\"\n",
    "    input_layer = keras.layers.Input(input_shape)\n",
    "    \n",
    "    for i, n_units in enumerate(num_neurons):\n",
    "        if i == 0:\n",
    "            x = keras.layers.Dense(units=n_units, \n",
    "                                   activation=\"relu\", \n",
    "                                   name=\"hidden_layer\"+str(i+1))(input_layer)\n",
    "            x = BatchNormalization()(x)\n",
    "        else:\n",
    "            x = keras.layers.Dense(units=n_units, \n",
    "                                   activation=\"relu\", \n",
    "                                   name=\"hidden_layer\"+str(i+1))(x)\n",
    "            x = BatchNormalization()(x)\n",
    "    \n",
    "    out = keras.layers.Dense(units=output_units, activation=\"softmax\", name=\"output\")(x)\n",
    "    \n",
    "    model = keras.models.Model(inputs=[input_layer], outputs=[out])\n",
    "    return model"
   ]
  },
  {
   "cell_type": "code",
   "execution_count": 21,
   "metadata": {},
   "outputs": [],
   "source": [
    "\"\"\"Code Here\n",
    "設定超參數\n",
    "\"\"\"\n",
    "LEARNING_RATE = 1e-3\n",
    "EPOCHS = 50\n",
    "BATCH_SIZE = 1024\n",
    "MOMENTUM = 0.95"
   ]
  },
  {
   "cell_type": "markdown",
   "metadata": {},
   "source": [
    "## 改變 monitor \"Validation Accuracy\" 並比較結果"
   ]
  },
  {
   "cell_type": "code",
   "execution_count": 22,
   "metadata": {},
   "outputs": [
    {
     "name": "stderr",
     "output_type": "stream",
     "text": [
      "W0720 16:31:34.387140 140667343914816 deprecation.py:506] From /home/simon/tf_workspace/lib/python3.6/site-packages/tensorflow/python/training/moving_averages.py:211: calling Zeros.__init__ (from tensorflow.python.ops.init_ops) with dtype is deprecated and will be removed in a future version.\n",
      "Instructions for updating:\n",
      "Call initializer instance with the dtype argument instead of passing it to the constructor\n",
      "W0720 16:31:34.551093 140667343914816 deprecation.py:237] From /home/simon/tf_workspace/lib/python3.6/site-packages/keras/backend/tensorflow_backend.py:3295: The name tf.log is deprecated. Please use tf.math.log instead.\n",
      "\n"
     ]
    },
    {
     "name": "stdout",
     "output_type": "stream",
     "text": [
      "_________________________________________________________________\n",
      "Layer (type)                 Output Shape              Param #   \n",
      "=================================================================\n",
      "input_2 (InputLayer)         (None, 3072)              0         \n",
      "_________________________________________________________________\n",
      "hidden_layer1 (Dense)        (None, 512)               1573376   \n",
      "_________________________________________________________________\n",
      "batch_normalization_1 (Batch (None, 512)               2048      \n",
      "_________________________________________________________________\n",
      "hidden_layer2 (Dense)        (None, 256)               131328    \n",
      "_________________________________________________________________\n",
      "batch_normalization_2 (Batch (None, 256)               1024      \n",
      "_________________________________________________________________\n",
      "hidden_layer3 (Dense)        (None, 128)               32896     \n",
      "_________________________________________________________________\n",
      "batch_normalization_3 (Batch (None, 128)               512       \n",
      "_________________________________________________________________\n",
      "output (Dense)               (None, 10)                1290      \n",
      "=================================================================\n",
      "Total params: 1,742,474\n",
      "Trainable params: 1,740,682\n",
      "Non-trainable params: 1,792\n",
      "_________________________________________________________________\n",
      "Train on 50000 samples, validate on 10000 samples\n",
      "Epoch 1/50\n",
      "50000/50000 [==============================] - 2s 37us/step - loss: 2.2154 - acc: 0.2655 - val_loss: 2.0436 - val_acc: 0.3223\n",
      "Epoch 2/50\n",
      "50000/50000 [==============================] - 1s 12us/step - loss: 1.7423 - acc: 0.3908 - val_loss: 1.7728 - val_acc: 0.3862\n",
      "Epoch 3/50\n",
      "50000/50000 [==============================] - 1s 13us/step - loss: 1.6153 - acc: 0.4336 - val_loss: 1.6768 - val_acc: 0.4143\n",
      "Epoch 4/50\n",
      "50000/50000 [==============================] - 1s 12us/step - loss: 1.5453 - acc: 0.4567 - val_loss: 1.6198 - val_acc: 0.4340\n",
      "Epoch 5/50\n",
      "50000/50000 [==============================] - 1s 13us/step - loss: 1.4909 - acc: 0.4811 - val_loss: 1.5913 - val_acc: 0.4411\n",
      "Epoch 6/50\n",
      "50000/50000 [==============================] - 1s 12us/step - loss: 1.4448 - acc: 0.4955 - val_loss: 1.5623 - val_acc: 0.4521\n",
      "Epoch 7/50\n",
      "50000/50000 [==============================] - 1s 12us/step - loss: 1.4061 - acc: 0.5096 - val_loss: 1.5352 - val_acc: 0.4586\n",
      "Epoch 8/50\n",
      "50000/50000 [==============================] - 1s 12us/step - loss: 1.3708 - acc: 0.5209 - val_loss: 1.5278 - val_acc: 0.4616\n",
      "Epoch 9/50\n",
      "50000/50000 [==============================] - 1s 12us/step - loss: 1.3380 - acc: 0.5358 - val_loss: 1.4988 - val_acc: 0.4737\n",
      "Epoch 10/50\n",
      "50000/50000 [==============================] - 1s 12us/step - loss: 1.3095 - acc: 0.5457 - val_loss: 1.4970 - val_acc: 0.4704\n",
      "Epoch 11/50\n",
      "50000/50000 [==============================] - 1s 12us/step - loss: 1.2782 - acc: 0.5576 - val_loss: 1.4775 - val_acc: 0.4765\n",
      "Epoch 12/50\n",
      "50000/50000 [==============================] - 1s 12us/step - loss: 1.2529 - acc: 0.5676 - val_loss: 1.4711 - val_acc: 0.4789\n",
      "Epoch 13/50\n",
      "50000/50000 [==============================] - 1s 12us/step - loss: 1.2268 - acc: 0.5761 - val_loss: 1.4704 - val_acc: 0.4783\n",
      "Epoch 14/50\n",
      "50000/50000 [==============================] - 1s 12us/step - loss: 1.2020 - acc: 0.5870 - val_loss: 1.4628 - val_acc: 0.4825\n",
      "Epoch 15/50\n",
      "50000/50000 [==============================] - 1s 12us/step - loss: 1.1792 - acc: 0.5955 - val_loss: 1.4636 - val_acc: 0.4815\n",
      "Epoch 16/50\n",
      "50000/50000 [==============================] - 1s 12us/step - loss: 1.1547 - acc: 0.6031 - val_loss: 1.4487 - val_acc: 0.4851\n",
      "Epoch 17/50\n",
      "50000/50000 [==============================] - 1s 12us/step - loss: 1.1311 - acc: 0.6124 - val_loss: 1.4551 - val_acc: 0.4928\n",
      "Epoch 18/50\n",
      "50000/50000 [==============================] - 1s 13us/step - loss: 1.1108 - acc: 0.6190 - val_loss: 1.4416 - val_acc: 0.4950\n",
      "Epoch 19/50\n",
      "50000/50000 [==============================] - 1s 12us/step - loss: 1.0877 - acc: 0.6279 - val_loss: 1.4441 - val_acc: 0.4903\n",
      "Epoch 20/50\n",
      "50000/50000 [==============================] - 1s 12us/step - loss: 1.0667 - acc: 0.6359 - val_loss: 1.4409 - val_acc: 0.4992\n",
      "Epoch 21/50\n",
      "50000/50000 [==============================] - 1s 12us/step - loss: 1.0467 - acc: 0.6426 - val_loss: 1.4493 - val_acc: 0.4892\n",
      "Epoch 22/50\n",
      "50000/50000 [==============================] - 1s 12us/step - loss: 1.0260 - acc: 0.6506 - val_loss: 1.4511 - val_acc: 0.4936\n",
      "Epoch 23/50\n",
      "50000/50000 [==============================] - 1s 12us/step - loss: 1.0047 - acc: 0.6595 - val_loss: 1.4593 - val_acc: 0.4945\n",
      "Epoch 24/50\n",
      "50000/50000 [==============================] - 1s 12us/step - loss: 0.9825 - acc: 0.6679 - val_loss: 1.4469 - val_acc: 0.4929\n",
      "Epoch 25/50\n",
      "50000/50000 [==============================] - 1s 12us/step - loss: 0.9613 - acc: 0.6757 - val_loss: 1.4489 - val_acc: 0.4972\n",
      "Epoch 00025: early stopping\n"
     ]
    }
   ],
   "source": [
    "# 載入 Callbacks\n",
    "\"\"\"Code Here\n",
    "設定 callbacks: Earlystop\n",
    "\"\"\"\n",
    "from keras.callbacks import EarlyStopping\n",
    "from keras.layers import BatchNormalization\n",
    "\n",
    "earlystop = EarlyStopping(monitor=\"val_acc\", \n",
    "                          patience=5, \n",
    "                          verbose=1\n",
    "                          )\n",
    "\n",
    "results = {}\n",
    "\"\"\"Code Here\n",
    "撰寫你的訓練流程並將結果用 dictionary 紀錄\n",
    "\"\"\"\n",
    "\n",
    "model = build_mlp(input_shape=x_train.shape[1:])\n",
    "model.summary()\n",
    "optimizer = keras.optimizers.SGD(lr=LEARNING_RATE, nesterov=True, momentum=MOMENTUM)\n",
    "model.compile(loss=\"categorical_crossentropy\", metrics=[\"accuracy\"], optimizer=optimizer)\n",
    "\n",
    "model.fit(x_train, y_train, \n",
    "          epochs=EPOCHS, \n",
    "          batch_size=BATCH_SIZE, \n",
    "          validation_data=(x_test, y_test), \n",
    "          shuffle=True,\n",
    "          callbacks=[earlystop]\n",
    "         )\n",
    "\n",
    "# Collect results\n",
    "train_loss = model.history.history[\"loss\"]\n",
    "valid_loss = model.history.history[\"val_loss\"]\n",
    "train_acc = model.history.history[\"acc\"]\n",
    "valid_acc = model.history.history[\"val_acc\"]"
   ]
  },
  {
   "cell_type": "code",
   "execution_count": 23,
   "metadata": {},
   "outputs": [
    {
     "data": {
      "image/png": "[encoded data removed]",
      "text/plain": [
       "<Figure size 432x288 with 1 Axes>"
      ]
     },
     "metadata": {
      "needs_background": "light"
     },
     "output_type": "display_data"
    },
    {
     "data": {
      "image/png": "[encoded data removed]",
      "text/plain": [
       "<Figure size 432x288 with 1 Axes>"
      ]
     },
     "metadata": {
      "needs_background": "light"
     },
     "output_type": "display_data"
    }
   ],
   "source": [
    "import matplotlib.pyplot as plt\n",
    "%matplotlib inline\n",
    "\"\"\"Code Here\n",
    "將結果繪出\n",
    "\"\"\"\n",
    "\n",
    "plt.plot(range(len(train_loss)), train_loss, label=\"train loss\")\n",
    "plt.plot(range(len(valid_loss)), valid_loss, label=\"valid loss\")\n",
    "plt.legend()\n",
    "plt.title(\"Loss\")\n",
    "plt.show()\n",
    "\n",
    "plt.plot(range(len(train_acc)), train_acc, label=\"train accuracy\")\n",
    "plt.plot(range(len(valid_acc)), valid_acc, label=\"valid accuracy\")\n",
    "plt.legend()\n",
    "plt.title(\"Accuracy\")\n",
    "plt.show()"
   ]
  },
  {
   "cell_type": "markdown",
   "metadata": {},
   "source": [
    "## 調整 earlystop 的等待次數至 10, 25 並比較結果"
   ]
  },
  {
   "cell_type": "code",
   "execution_count": 24,
   "metadata": {},
   "outputs": [
    {
     "name": "stdout",
     "output_type": "stream",
     "text": [
      "_________________________________________________________________\n",
      "Layer (type)                 Output Shape              Param #   \n",
      "=================================================================\n",
      "input_3 (InputLayer)         (None, 3072)              0         \n",
      "_________________________________________________________________\n",
      "hidden_layer1 (Dense)        (None, 512)               1573376   \n",
      "_________________________________________________________________\n",
      "batch_normalization_4 (Batch (None, 512)               2048      \n",
      "_________________________________________________________________\n",
      "hidden_layer2 (Dense)        (None, 256)               131328    \n",
      "_________________________________________________________________\n",
      "batch_normalization_5 (Batch (None, 256)               1024      \n",
      "_________________________________________________________________\n",
      "hidden_layer3 (Dense)        (None, 128)               32896     \n",
      "_________________________________________________________________\n",
      "batch_normalization_6 (Batch (None, 128)               512       \n",
      "_________________________________________________________________\n",
      "output (Dense)               (None, 10)                1290      \n",
      "=================================================================\n",
      "Total params: 1,742,474\n",
      "Trainable params: 1,740,682\n",
      "Non-trainable params: 1,792\n",
      "_________________________________________________________________\n",
      "Train on 50000 samples, validate on 10000 samples\n",
      "Epoch 1/50\n",
      "50000/50000 [==============================] - 1s 24us/step - loss: 2.2067 - acc: 0.2715 - val_loss: 2.1252 - val_acc: 0.3158\n",
      "Epoch 2/50\n",
      "50000/50000 [==============================] - 1s 12us/step - loss: 1.7493 - acc: 0.3882 - val_loss: 1.8252 - val_acc: 0.3800\n",
      "Epoch 3/50\n",
      "50000/50000 [==============================] - 1s 12us/step - loss: 1.6174 - acc: 0.4351 - val_loss: 1.7133 - val_acc: 0.4006\n",
      "Epoch 4/50\n",
      "50000/50000 [==============================] - 1s 12us/step - loss: 1.5401 - acc: 0.4622 - val_loss: 1.6274 - val_acc: 0.4279\n",
      "Epoch 5/50\n",
      "50000/50000 [==============================] - 1s 12us/step - loss: 1.4820 - acc: 0.4825 - val_loss: 1.5875 - val_acc: 0.4476\n",
      "Epoch 6/50\n",
      "50000/50000 [==============================] - 1s 12us/step - loss: 1.4341 - acc: 0.5004 - val_loss: 1.5595 - val_acc: 0.4567\n",
      "Epoch 7/50\n",
      "50000/50000 [==============================] - 1s 12us/step - loss: 1.3935 - acc: 0.5149 - val_loss: 1.5400 - val_acc: 0.4663\n",
      "Epoch 8/50\n",
      "50000/50000 [==============================] - 1s 12us/step - loss: 1.3587 - acc: 0.5263 - val_loss: 1.5105 - val_acc: 0.4709\n",
      "Epoch 9/50\n",
      "50000/50000 [==============================] - 1s 13us/step - loss: 1.3254 - acc: 0.5388 - val_loss: 1.5077 - val_acc: 0.4661\n",
      "Epoch 10/50\n",
      "50000/50000 [==============================] - 1s 12us/step - loss: 1.2933 - acc: 0.5509 - val_loss: 1.4925 - val_acc: 0.4753\n",
      "Epoch 11/50\n",
      "50000/50000 [==============================] - 1s 12us/step - loss: 1.2656 - acc: 0.5604 - val_loss: 1.4833 - val_acc: 0.4794\n",
      "Epoch 12/50\n",
      "50000/50000 [==============================] - 1s 12us/step - loss: 1.2404 - acc: 0.5698 - val_loss: 1.4699 - val_acc: 0.4813\n",
      "Epoch 13/50\n",
      "50000/50000 [==============================] - 1s 12us/step - loss: 1.2148 - acc: 0.5802 - val_loss: 1.4670 - val_acc: 0.4823\n",
      "Epoch 14/50\n",
      "50000/50000 [==============================] - 1s 13us/step - loss: 1.1898 - acc: 0.5896 - val_loss: 1.4623 - val_acc: 0.4900\n",
      "Epoch 15/50\n",
      "50000/50000 [==============================] - 1s 12us/step - loss: 1.1650 - acc: 0.5990 - val_loss: 1.4551 - val_acc: 0.4854\n",
      "Epoch 16/50\n",
      "50000/50000 [==============================] - 1s 12us/step - loss: 1.1427 - acc: 0.6075 - val_loss: 1.4586 - val_acc: 0.4854\n",
      "Epoch 17/50\n",
      "50000/50000 [==============================] - 1s 12us/step - loss: 1.1210 - acc: 0.6157 - val_loss: 1.4425 - val_acc: 0.4923\n",
      "Epoch 18/50\n",
      "50000/50000 [==============================] - 1s 12us/step - loss: 1.0982 - acc: 0.6236 - val_loss: 1.4490 - val_acc: 0.4853\n",
      "Epoch 19/50\n",
      "50000/50000 [==============================] - 1s 13us/step - loss: 1.0758 - acc: 0.6328 - val_loss: 1.4555 - val_acc: 0.4925\n",
      "Epoch 20/50\n",
      "50000/50000 [==============================] - 1s 12us/step - loss: 1.0531 - acc: 0.6412 - val_loss: 1.4434 - val_acc: 0.4890\n",
      "Epoch 21/50\n",
      "50000/50000 [==============================] - 1s 13us/step - loss: 1.0315 - acc: 0.6493 - val_loss: 1.4500 - val_acc: 0.4867\n",
      "Epoch 22/50\n",
      "50000/50000 [==============================] - 1s 12us/step - loss: 1.0093 - acc: 0.6578 - val_loss: 1.4524 - val_acc: 0.4938\n",
      "Epoch 23/50\n",
      "50000/50000 [==============================] - 1s 12us/step - loss: 0.9912 - acc: 0.6658 - val_loss: 1.4491 - val_acc: 0.4944\n",
      "Epoch 24/50\n",
      "50000/50000 [==============================] - 1s 12us/step - loss: 0.9681 - acc: 0.6738 - val_loss: 1.4537 - val_acc: 0.4937\n",
      "Epoch 25/50\n",
      "50000/50000 [==============================] - 1s 12us/step - loss: 0.9477 - acc: 0.6823 - val_loss: 1.4570 - val_acc: 0.4953\n",
      "Epoch 26/50\n",
      "50000/50000 [==============================] - 1s 12us/step - loss: 0.9287 - acc: 0.6897 - val_loss: 1.4560 - val_acc: 0.4940\n",
      "Epoch 27/50\n",
      "50000/50000 [==============================] - 1s 12us/step - loss: 0.9071 - acc: 0.6971 - val_loss: 1.4606 - val_acc: 0.4947\n",
      "Epoch 28/50\n",
      "50000/50000 [==============================] - 1s 12us/step - loss: 0.8883 - acc: 0.7063 - val_loss: 1.4606 - val_acc: 0.4962\n",
      "Epoch 29/50\n",
      "50000/50000 [==============================] - 1s 13us/step - loss: 0.8691 - acc: 0.7119 - val_loss: 1.4647 - val_acc: 0.4971\n",
      "Epoch 30/50\n",
      "50000/50000 [==============================] - 1s 12us/step - loss: 0.8494 - acc: 0.7201 - val_loss: 1.4714 - val_acc: 0.4920\n",
      "Epoch 31/50\n",
      "50000/50000 [==============================] - 1s 12us/step - loss: 0.8301 - acc: 0.7285 - val_loss: 1.4774 - val_acc: 0.4952\n",
      "Epoch 32/50\n",
      "50000/50000 [==============================] - 1s 12us/step - loss: 0.8105 - acc: 0.7369 - val_loss: 1.4987 - val_acc: 0.4906\n",
      "Epoch 33/50\n",
      "50000/50000 [==============================] - 1s 12us/step - loss: 0.7900 - acc: 0.7443 - val_loss: 1.4867 - val_acc: 0.4923\n",
      "Epoch 34/50\n",
      "50000/50000 [==============================] - 1s 12us/step - loss: 0.7725 - acc: 0.7520 - val_loss: 1.4982 - val_acc: 0.4982\n",
      "Epoch 35/50\n",
      "50000/50000 [==============================] - 1s 12us/step - loss: 0.7541 - acc: 0.7583 - val_loss: 1.5105 - val_acc: 0.4924\n",
      "Epoch 36/50\n",
      "50000/50000 [==============================] - 1s 12us/step - loss: 0.7349 - acc: 0.7655 - val_loss: 1.5101 - val_acc: 0.4972\n",
      "Epoch 37/50\n",
      "50000/50000 [==============================] - 1s 12us/step - loss: 0.7148 - acc: 0.7737 - val_loss: 1.5254 - val_acc: 0.4899\n",
      "Epoch 38/50\n",
      "50000/50000 [==============================] - 1s 12us/step - loss: 0.6964 - acc: 0.7822 - val_loss: 1.5359 - val_acc: 0.4931\n",
      "Epoch 39/50\n",
      "50000/50000 [==============================] - 1s 12us/step - loss: 0.6768 - acc: 0.7905 - val_loss: 1.5408 - val_acc: 0.4933\n",
      "Epoch 40/50\n",
      "50000/50000 [==============================] - 1s 12us/step - loss: 0.6574 - acc: 0.7974 - val_loss: 1.5453 - val_acc: 0.4933\n",
      "Epoch 41/50\n",
      "50000/50000 [==============================] - 1s 12us/step - loss: 0.6429 - acc: 0.8044 - val_loss: 1.5519 - val_acc: 0.4924\n",
      "Epoch 42/50\n",
      "50000/50000 [==============================] - 1s 13us/step - loss: 0.6255 - acc: 0.8117 - val_loss: 1.5743 - val_acc: 0.4921\n",
      "Epoch 43/50\n",
      "50000/50000 [==============================] - 1s 12us/step - loss: 0.6075 - acc: 0.8170 - val_loss: 1.5935 - val_acc: 0.4863\n",
      "Epoch 44/50\n",
      "50000/50000 [==============================] - 1s 13us/step - loss: 0.5874 - acc: 0.8266 - val_loss: 1.5871 - val_acc: 0.4942\n",
      "Epoch 00044: early stopping\n"
     ]
    }
   ],
   "source": [
    "# 載入 Callbacks\n",
    "\"\"\"Code Here\n",
    "設定 callbacks: Earlystop\n",
    "\"\"\"\n",
    "earlystop = EarlyStopping(monitor=\"val_acc\", \n",
    "                          patience=10, \n",
    "                          verbose=1\n",
    "                          )\n",
    "\n",
    "results = {}\n",
    "\"\"\"Code Here\n",
    "撰寫你的訓練流程並將結果用 dictionary 紀錄\n",
    "\"\"\"\n",
    "\n",
    "model = build_mlp(input_shape=x_train.shape[1:])\n",
    "model.summary()\n",
    "optimizer = keras.optimizers.SGD(lr=LEARNING_RATE, nesterov=True, momentum=MOMENTUM)\n",
    "model.compile(loss=\"categorical_crossentropy\", metrics=[\"accuracy\"], optimizer=optimizer)\n",
    "\n",
    "model.fit(x_train, y_train, \n",
    "          epochs=EPOCHS, \n",
    "          batch_size=BATCH_SIZE, \n",
    "          validation_data=(x_test, y_test), \n",
    "          shuffle=True,\n",
    "          callbacks=[earlystop]\n",
    "         )\n",
    "\n",
    "# Collect results\n",
    "train_loss = model.history.history[\"loss\"]\n",
    "valid_loss = model.history.history[\"val_loss\"]\n",
    "train_acc = model.history.history[\"acc\"]\n",
    "valid_acc = model.history.history[\"val_acc\"]"
   ]
  },
  {
   "cell_type": "code",
   "execution_count": 25,
   "metadata": {},
   "outputs": [
    {
     "data": {
      "image/png": "[encoded data removed]",
      "text/plain": [
       "<Figure size 432x288 with 1 Axes>"
      ]
     },
     "metadata": {
      "needs_background": "light"
     },
     "output_type": "display_data"
    },
    {
     "data": {
      "image/png": "[encoded data removed]",
      "text/plain": [
       "<Figure size 432x288 with 1 Axes>"
      ]
     },
     "metadata": {
      "needs_background": "light"
     },
     "output_type": "display_data"
    }
   ],
   "source": [
    "plt.plot(range(len(train_loss)), train_loss, label=\"train loss\")\n",
    "plt.plot(range(len(valid_loss)), valid_loss, label=\"valid loss\")\n",
    "plt.legend()\n",
    "plt.title(\"Loss\")\n",
    "plt.show()\n",
    "\n",
    "plt.plot(range(len(train_acc)), train_acc, label=\"train accuracy\")\n",
    "plt.plot(range(len(valid_acc)), valid_acc, label=\"valid accuracy\")\n",
    "plt.legend()\n",
    "plt.title(\"Accuracy\")\n",
    "plt.show()"
   ]
  },
  {
   "cell_type": "code",
   "execution_count": 26,
   "metadata": {},
   "outputs": [
    {
     "name": "stdout",
     "output_type": "stream",
     "text": [
      "_________________________________________________________________\n",
      "Layer (type)                 Output Shape              Param #   \n",
      "=================================================================\n",
      "input_4 (InputLayer)         (None, 3072)              0         \n",
      "_________________________________________________________________\n",
      "hidden_layer1 (Dense)        (None, 512)               1573376   \n",
      "_________________________________________________________________\n",
      "batch_normalization_7 (Batch (None, 512)               2048      \n",
      "_________________________________________________________________\n",
      "hidden_layer2 (Dense)        (None, 256)               131328    \n",
      "_________________________________________________________________\n",
      "batch_normalization_8 (Batch (None, 256)               1024      \n",
      "_________________________________________________________________\n",
      "hidden_layer3 (Dense)        (None, 128)               32896     \n",
      "_________________________________________________________________\n",
      "batch_normalization_9 (Batch (None, 128)               512       \n",
      "_________________________________________________________________\n",
      "output (Dense)               (None, 10)                1290      \n",
      "=================================================================\n",
      "Total params: 1,742,474\n",
      "Trainable params: 1,740,682\n",
      "Non-trainable params: 1,792\n",
      "_________________________________________________________________\n",
      "Train on 50000 samples, validate on 10000 samples\n",
      "Epoch 1/50\n",
      "50000/50000 [==============================] - 1s 27us/step - loss: 2.2338 - acc: 0.2644 - val_loss: 2.2763 - val_acc: 0.2771\n",
      "Epoch 2/50\n",
      "50000/50000 [==============================] - 1s 14us/step - loss: 1.7584 - acc: 0.3875 - val_loss: 1.8129 - val_acc: 0.3830\n",
      "Epoch 3/50\n",
      "50000/50000 [==============================] - 1s 14us/step - loss: 1.6324 - acc: 0.4295 - val_loss: 1.7021 - val_acc: 0.4138\n",
      "Epoch 4/50\n",
      "50000/50000 [==============================] - 1s 14us/step - loss: 1.5580 - acc: 0.4549 - val_loss: 1.6410 - val_acc: 0.4259\n",
      "Epoch 5/50\n",
      "50000/50000 [==============================] - 1s 13us/step - loss: 1.4991 - acc: 0.4753 - val_loss: 1.5901 - val_acc: 0.4402\n",
      "Epoch 6/50\n",
      "50000/50000 [==============================] - 1s 14us/step - loss: 1.4527 - acc: 0.4947 - val_loss: 1.5705 - val_acc: 0.4495\n",
      "Epoch 7/50\n",
      "50000/50000 [==============================] - 1s 14us/step - loss: 1.4137 - acc: 0.5070 - val_loss: 1.5519 - val_acc: 0.4588\n",
      "Epoch 8/50\n",
      "50000/50000 [==============================] - 1s 14us/step - loss: 1.3772 - acc: 0.5225 - val_loss: 1.5307 - val_acc: 0.4638\n",
      "Epoch 9/50\n",
      "50000/50000 [==============================] - 1s 14us/step - loss: 1.3443 - acc: 0.5341 - val_loss: 1.5287 - val_acc: 0.4646\n",
      "Epoch 10/50\n",
      "50000/50000 [==============================] - 1s 14us/step - loss: 1.3147 - acc: 0.5440 - val_loss: 1.5201 - val_acc: 0.4676\n",
      "Epoch 11/50\n",
      "50000/50000 [==============================] - 1s 14us/step - loss: 1.2864 - acc: 0.5564 - val_loss: 1.5081 - val_acc: 0.4734\n",
      "Epoch 12/50\n",
      "50000/50000 [==============================] - 1s 14us/step - loss: 1.2594 - acc: 0.5654 - val_loss: 1.4958 - val_acc: 0.4802\n",
      "Epoch 13/50\n",
      "50000/50000 [==============================] - 1s 14us/step - loss: 1.2332 - acc: 0.5742 - val_loss: 1.4992 - val_acc: 0.4789\n",
      "Epoch 14/50\n",
      "50000/50000 [==============================] - 1s 14us/step - loss: 1.2080 - acc: 0.5867 - val_loss: 1.4833 - val_acc: 0.4766\n",
      "Epoch 15/50\n",
      "50000/50000 [==============================] - 1s 14us/step - loss: 1.1842 - acc: 0.5948 - val_loss: 1.4739 - val_acc: 0.4865\n",
      "Epoch 16/50\n",
      "50000/50000 [==============================] - 1s 14us/step - loss: 1.1618 - acc: 0.6014 - val_loss: 1.4710 - val_acc: 0.4862\n",
      "Epoch 17/50\n",
      "50000/50000 [==============================] - 1s 14us/step - loss: 1.1389 - acc: 0.6115 - val_loss: 1.4691 - val_acc: 0.4900\n",
      "Epoch 18/50\n",
      "50000/50000 [==============================] - 1s 14us/step - loss: 1.1174 - acc: 0.6182 - val_loss: 1.4661 - val_acc: 0.4902\n",
      "Epoch 19/50\n",
      "50000/50000 [==============================] - 1s 14us/step - loss: 1.0940 - acc: 0.6278 - val_loss: 1.4651 - val_acc: 0.4893\n",
      "Epoch 20/50\n",
      "50000/50000 [==============================] - 1s 14us/step - loss: 1.0725 - acc: 0.6368 - val_loss: 1.4656 - val_acc: 0.4900\n",
      "Epoch 21/50\n",
      "50000/50000 [==============================] - 1s 14us/step - loss: 1.0507 - acc: 0.6451 - val_loss: 1.4704 - val_acc: 0.4919\n",
      "Epoch 22/50\n",
      "50000/50000 [==============================] - 1s 14us/step - loss: 1.0301 - acc: 0.6535 - val_loss: 1.4659 - val_acc: 0.4924\n",
      "Epoch 23/50\n",
      "50000/50000 [==============================] - 1s 14us/step - loss: 1.0080 - acc: 0.6612 - val_loss: 1.4928 - val_acc: 0.4885\n",
      "Epoch 24/50\n",
      "50000/50000 [==============================] - 1s 14us/step - loss: 0.9902 - acc: 0.6685 - val_loss: 1.4693 - val_acc: 0.4909\n",
      "Epoch 25/50\n",
      "50000/50000 [==============================] - 1s 14us/step - loss: 0.9667 - acc: 0.6765 - val_loss: 1.4830 - val_acc: 0.4883\n",
      "Epoch 26/50\n",
      "50000/50000 [==============================] - 1s 14us/step - loss: 0.9475 - acc: 0.6864 - val_loss: 1.4738 - val_acc: 0.4951\n",
      "Epoch 27/50\n",
      "50000/50000 [==============================] - 1s 14us/step - loss: 0.9272 - acc: 0.6922 - val_loss: 1.4809 - val_acc: 0.4939\n",
      "Epoch 28/50\n",
      "50000/50000 [==============================] - 1s 14us/step - loss: 0.9056 - acc: 0.7012 - val_loss: 1.4889 - val_acc: 0.4928\n",
      "Epoch 29/50\n",
      "50000/50000 [==============================] - 1s 14us/step - loss: 0.8853 - acc: 0.7093 - val_loss: 1.4960 - val_acc: 0.4867\n",
      "Epoch 30/50\n",
      "50000/50000 [==============================] - 1s 14us/step - loss: 0.8668 - acc: 0.7156 - val_loss: 1.5077 - val_acc: 0.4925\n",
      "Epoch 31/50\n",
      "50000/50000 [==============================] - 1s 14us/step - loss: 0.8509 - acc: 0.7230 - val_loss: 1.4996 - val_acc: 0.4997\n",
      "Epoch 32/50\n",
      "50000/50000 [==============================] - 1s 13us/step - loss: 0.8304 - acc: 0.7303 - val_loss: 1.5288 - val_acc: 0.4871\n",
      "Epoch 33/50\n",
      "50000/50000 [==============================] - 1s 13us/step - loss: 0.8126 - acc: 0.7368 - val_loss: 1.5052 - val_acc: 0.4970\n",
      "Epoch 34/50\n",
      "50000/50000 [==============================] - 1s 13us/step - loss: 0.7916 - acc: 0.7464 - val_loss: 1.5135 - val_acc: 0.4977\n",
      "Epoch 35/50\n",
      "50000/50000 [==============================] - 1s 13us/step - loss: 0.7717 - acc: 0.7545 - val_loss: 1.5332 - val_acc: 0.4925\n",
      "Epoch 36/50\n",
      "50000/50000 [==============================] - 1s 14us/step - loss: 0.7546 - acc: 0.7600 - val_loss: 1.5404 - val_acc: 0.4957\n",
      "Epoch 37/50\n",
      "50000/50000 [==============================] - 1s 13us/step - loss: 0.7349 - acc: 0.7685 - val_loss: 1.5398 - val_acc: 0.4963\n",
      "Epoch 38/50\n",
      "50000/50000 [==============================] - 1s 13us/step - loss: 0.7171 - acc: 0.7753 - val_loss: 1.5371 - val_acc: 0.4970\n",
      "Epoch 39/50\n",
      "50000/50000 [==============================] - 1s 13us/step - loss: 0.6974 - acc: 0.7827 - val_loss: 1.5525 - val_acc: 0.4915\n",
      "Epoch 40/50\n",
      "50000/50000 [==============================] - 1s 13us/step - loss: 0.6825 - acc: 0.7888 - val_loss: 1.5583 - val_acc: 0.4932\n",
      "Epoch 41/50\n",
      "50000/50000 [==============================] - 1s 13us/step - loss: 0.6626 - acc: 0.7959 - val_loss: 1.5573 - val_acc: 0.4971\n",
      "Epoch 42/50\n",
      "50000/50000 [==============================] - 1s 13us/step - loss: 0.6432 - acc: 0.8043 - val_loss: 1.5767 - val_acc: 0.4983\n",
      "Epoch 43/50\n",
      "50000/50000 [==============================] - 1s 13us/step - loss: 0.6280 - acc: 0.8096 - val_loss: 1.5970 - val_acc: 0.4983\n",
      "Epoch 44/50\n",
      "50000/50000 [==============================] - 1s 13us/step - loss: 0.6099 - acc: 0.8170 - val_loss: 1.6104 - val_acc: 0.4900\n",
      "Epoch 45/50\n",
      "50000/50000 [==============================] - 1s 13us/step - loss: 0.5925 - acc: 0.8240 - val_loss: 1.6050 - val_acc: 0.5003\n",
      "Epoch 46/50\n",
      "50000/50000 [==============================] - 1s 13us/step - loss: 0.5757 - acc: 0.8310 - val_loss: 1.6224 - val_acc: 0.4964\n",
      "Epoch 47/50\n",
      "50000/50000 [==============================] - 1s 13us/step - loss: 0.5574 - acc: 0.8362 - val_loss: 1.6473 - val_acc: 0.4923\n",
      "Epoch 48/50\n",
      "50000/50000 [==============================] - 1s 13us/step - loss: 0.5431 - acc: 0.8424 - val_loss: 1.6362 - val_acc: 0.4954\n",
      "Epoch 49/50\n",
      "50000/50000 [==============================] - 1s 14us/step - loss: 0.5248 - acc: 0.8509 - val_loss: 1.6522 - val_acc: 0.4879\n"
     ]
    },
    {
     "name": "stdout",
     "output_type": "stream",
     "text": [
      "Epoch 50/50\n",
      "50000/50000 [==============================] - 1s 15us/step - loss: 0.5098 - acc: 0.8561 - val_loss: 1.6775 - val_acc: 0.4956\n"
     ]
    },
    {
     "data": {
      "image/png": "[encoded data removed]",
      "text/plain": [
       "<Figure size 432x288 with 1 Axes>"
      ]
     },
     "metadata": {
      "needs_background": "light"
     },
     "output_type": "display_data"
    },
    {
     "data": {
      "image/png": "[encoded data removed]",
      "text/plain": [
       "<Figure size 432x288 with 1 Axes>"
      ]
     },
     "metadata": {
      "needs_background": "light"
     },
     "output_type": "display_data"
    }
   ],
   "source": [
    "earlystop = EarlyStopping(monitor=\"val_acc\", \n",
    "                          patience=25, \n",
    "                          verbose=1\n",
    "                          )\n",
    "\n",
    "results = {}\n",
    "\"\"\"Code Here\n",
    "撰寫你的訓練流程並將結果用 dictionary 紀錄\n",
    "\"\"\"\n",
    "\n",
    "model = build_mlp(input_shape=x_train.shape[1:])\n",
    "model.summary()\n",
    "optimizer = keras.optimizers.SGD(lr=LEARNING_RATE, nesterov=True, momentum=MOMENTUM)\n",
    "model.compile(loss=\"categorical_crossentropy\", metrics=[\"accuracy\"], optimizer=optimizer)\n",
    "\n",
    "model.fit(x_train, y_train, \n",
    "          epochs=EPOCHS, \n",
    "          batch_size=BATCH_SIZE, \n",
    "          validation_data=(x_test, y_test), \n",
    "          shuffle=True,\n",
    "          callbacks=[earlystop]\n",
    "         )\n",
    "\n",
    "# Collect results\n",
    "train_loss = model.history.history[\"loss\"]\n",
    "valid_loss = model.history.history[\"val_loss\"]\n",
    "train_acc = model.history.history[\"acc\"]\n",
    "valid_acc = model.history.history[\"val_acc\"]\n",
    "\n",
    "plt.plot(range(len(train_loss)), train_loss, label=\"train loss\")\n",
    "plt.plot(range(len(valid_loss)), valid_loss, label=\"valid loss\")\n",
    "plt.legend()\n",
    "plt.title(\"Loss\")\n",
    "plt.show()\n",
    "\n",
    "plt.plot(range(len(train_acc)), train_acc, label=\"train accuracy\")\n",
    "plt.plot(range(len(valid_acc)), valid_acc, label=\"valid accuracy\")\n",
    "plt.legend()\n",
    "plt.title(\"Accuracy\")\n",
    "plt.show()"
   ]
  },
  {
   "cell_type": "markdown",
   "metadata": {},
   "source": [
    "### 用val loss和val acc結果差異不大, patience的差異比較大, 用到25時, 等於所有的epoch都跑完了."
   ]
  },
  {
   "cell_type": "code",
   "execution_count": null,
   "metadata": {},
   "outputs": [],
   "source": []
  }
 ],
 "metadata": {
  "kernelspec": {
   "display_name": "Python 3",
   "language": "python",
   "name": "python3"
  },
  "language_info": {
   "codemirror_mode": {
    "name": "ipython",
    "version": 3
   },
   "file_extension": ".py",
   "mimetype": "text/x-python",
   "name": "python",
   "nbconvert_exporter": "python",
   "pygments_lexer": "ipython3",
   "version": "3.6.7"
  }
 },
 "nbformat": 4,
 "nbformat_minor": 2
}
