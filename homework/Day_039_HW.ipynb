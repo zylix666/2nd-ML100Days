{
 "cells": [
  {
   "cell_type": "markdown",
   "metadata": {},
   "source": [
    "## [作業重點]\n",
    "清楚了解 L1, L2 的意義與差異為何，並了解 LASSO 與 Ridge 之間的差異與使用情境"
   ]
  },
  {
   "cell_type": "markdown",
   "metadata": {},
   "source": [
    "## 作業"
   ]
  },
  {
   "cell_type": "markdown",
   "metadata": {},
   "source": [
    "請閱讀相關文獻，並回答下列問題\n",
    "\n",
    "[脊回歸 (Ridge Regression)](https://blog.csdn.net/daunxx/article/details/51578787)\n",
    "[Linear, Ridge, Lasso Regression 本質區別](https://www.zhihu.com/question/38121173)\n",
    "\n",
    "1. LASSO 回歸可以被用來作為 Feature selection 的工具，請了解 LASSO 模型為什麼可用來作 Feature selection\n",
    "2. 當自變數 (X) 存在高度共線性時，Ridge Regression 可以處理這樣的問題嗎?\n"
   ]
  },
  {
   "cell_type": "markdown",
   "metadata": {},
   "source": [
    "### Answer1 : LASSO方法為回歸係數加入了L1懲罰，導致其中的許多參數趨於零。任何回歸係數不為零的特徵都會被LASSO算法「選中」。因此可以用來做Feature selection.\n",
    "\n",
    "### 所的回歸系數, 回歸係數（regression coefficient）在回歸方程中表示自變數 x之於因變數 y影響大小的參數。回歸係數越大表示x對y影響越大，正回歸係數表示y隨x增大而增大，負回歸係數表示y隨x增大而減小。例如回歸方程式Y=bX+a中，b稱為回歸係數，表示X每變動一單位，平均而言，Y將變動b單位。"
   ]
  },
  {
   "cell_type": "markdown",
   "metadata": {},
   "source": [
    "### Answer2 : 當自變數 (X) 存在高度共線性時, 回答這個問題前需要了解什麼是共線性(colinerarity), 當許多自變數X(i)間彼此出現高度相關, 可以用正則化來選擇要留下哪一個feature, 以降低模型變異和誤差。\n",
    "\n",
    "### 參考連結: http://dasanlin888.pixnet.net/blog/post/34469324-%E8%BF%B4%E6%AD%B8%E4%BF%82%E6%95%B8%E8%B7%9F%E9%A0%90%E6%9C%9F%E6%96%B9%E5%90%91%E7%9B%B8%E5%8F%8D-%E5%A4%9A%E5%85%83%E5%85%B1%E7%B7%9A%E6%80%A7%E7%9A%84%E5%95%8F%E9%A1%8C"
   ]
  },
  {
   "cell_type": "code",
   "execution_count": null,
   "metadata": {},
   "outputs": [],
   "source": []
  }
 ],
 "metadata": {
  "kernelspec": {
   "display_name": "Python 3",
   "language": "python",
   "name": "python3"
  },
  "language_info": {
   "codemirror_mode": {
    "name": "ipython",
    "version": 3
   },
   "file_extension": ".py",
   "mimetype": "text/x-python",
   "name": "python",
   "nbconvert_exporter": "python",
   "pygments_lexer": "ipython3",
   "version": "3.6.7"
  }
 },
 "nbformat": 4,
 "nbformat_minor": 2
}
